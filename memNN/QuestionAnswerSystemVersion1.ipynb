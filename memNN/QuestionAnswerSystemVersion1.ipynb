{
 "cells": [
  {
   "cell_type": "markdown",
   "metadata": {},
   "source": [
    "# One Supporting Fact Model"
   ]
  },
  {
   "cell_type": "code",
   "execution_count": 1,
   "metadata": {},
   "outputs": [
    {
     "name": "stderr",
     "output_type": "stream",
     "text": [
      "Using TensorFlow backend.\n",
      "/Users/yonarp/anaconda3/lib/python3.6/importlib/_bootstrap.py:219: RuntimeWarning: compiletime version 3.5 of module 'tensorflow.python.framework.fast_tensor_util' does not match runtime version 3.6\n",
      "  return f(*args, **kwds)\n"
     ]
    }
   ],
   "source": [
    "%matplotlib inline\n",
    "import importlib, utils2; \n",
    "importlib.reload(utils2)\n",
    "from utils2 import *\n",
    "import sys"
   ]
  },
  {
   "cell_type": "code",
   "execution_count": 2,
   "metadata": {},
   "outputs": [],
   "source": [
    "np.set_printoptions(4)"
   ]
  },
  {
   "cell_type": "code",
   "execution_count": 3,
   "metadata": {},
   "outputs": [],
   "source": [
    "cfg = K.tf.ConfigProto(gpu_options = {'allow_growth': True})\n",
    "K.set_session(K.tf.Session(config = cfg))"
   ]
  },
  {
   "cell_type": "code",
   "execution_count": 4,
   "metadata": {},
   "outputs": [],
   "source": [
    "def tokenize(sent):\n",
    "    return [x.strip() for x in re.split('(\\W+)?', sent) if x.strip() ]"
   ]
  },
  {
   "cell_type": "code",
   "execution_count": 5,
   "metadata": {},
   "outputs": [],
   "source": [
    "def parse_stories(lines):\n",
    "    data = []\n",
    "    story = []\n",
    "    for line in lines:\n",
    "        line = line.decode('utf-8').strip()\n",
    "        nid,line = line.split(\" \",1)\n",
    "        if int(nid) == 1:story = []\n",
    "        if '\\t' in line:\n",
    "            q, a, supporting = line.split('\\t')\n",
    "            q = tokenize(q)\n",
    "            substory = None\n",
    "            substory = [[str(i)+\":\"]+x for i,x in enumerate(story) if x]\n",
    "            data.append((substory, q, a))\n",
    "            story.append('')\n",
    "        else: story.append(tokenize(line))\n",
    "    return data"
   ]
  },
  {
   "cell_type": "code",
   "execution_count": 6,
   "metadata": {},
   "outputs": [],
   "source": [
    "path = get_file('babi-tasks-v1-2.tar.gz', origin = 'https://s3.amazonaws.com/text-datasets/babi_tasks_1-20_v1-2.tar.gz')"
   ]
  },
  {
   "cell_type": "code",
   "execution_count": 7,
   "metadata": {},
   "outputs": [],
   "source": [
    "tar = tarfile.open(path)"
   ]
  },
  {
   "cell_type": "code",
   "execution_count": 8,
   "metadata": {},
   "outputs": [],
   "source": [
    "challenges = {\n",
    "    # QA1 with 10,000 samples\n",
    "    'single_supporting_fact_10k': 'tasks_1-20_v1-2/en-10k/qa1_single-supporting-fact_{}.txt',\n",
    "    # QA2 with 10,000 samples\n",
    "    'two_supporting_facts_10k': 'tasks_1-20_v1-2/en-10k/qa2_two-supporting-facts_{}.txt',\n",
    "    'two_supporting_facts_1k': 'tasks_1-20_v1-2/en/qa2_two-supporting-facts_{}.txt',\n",
    "}"
   ]
  },
  {
   "cell_type": "code",
   "execution_count": 9,
   "metadata": {},
   "outputs": [],
   "source": [
    "challenge_type = 'single_supporting_fact_10k'\n",
    "\n",
    "challenge = challenges[challenge_type]"
   ]
  },
  {
   "cell_type": "code",
   "execution_count": 10,
   "metadata": {},
   "outputs": [],
   "source": [
    "def get_stories(file):\n",
    "    data = parse_stories(file.readlines())\n",
    "    return [(story, question, answer) for story, question, answer in data]"
   ]
  },
  {
   "cell_type": "code",
   "execution_count": 11,
   "metadata": {},
   "outputs": [
    {
     "name": "stderr",
     "output_type": "stream",
     "text": [
      "/Users/yonarp/anaconda3/lib/python3.6/re.py:212: FutureWarning: split() requires a non-empty pattern match.\n",
      "  return _compile(pattern, flags).split(string, maxsplit)\n"
     ]
    }
   ],
   "source": [
    "train_stories = get_stories(tar.extractfile(challenge.format('train')))\n",
    "test_stories = get_stories(tar.extractfile(challenge.format('test')))"
   ]
  },
  {
   "cell_type": "code",
   "execution_count": 12,
   "metadata": {},
   "outputs": [],
   "source": [
    "stories = train_stories + test_stories"
   ]
  },
  {
   "cell_type": "code",
   "execution_count": 13,
   "metadata": {},
   "outputs": [],
   "source": [
    "story_maxlen =    max((len(x) for s,_,_ in stories for x in s))\n",
    "story_maxsents = max((len(x) for x, _, _ in stories))\n",
    "query_maxlen = max(len(x) for _, x, _ in stories)"
   ]
  },
  {
   "cell_type": "code",
   "execution_count": 14,
   "metadata": {},
   "outputs": [],
   "source": [
    "import time\n",
    "def create_vocab(stories):\n",
    "    vocab = set()\n",
    "    for i,story in enumerate(stories):\n",
    "        sys.stdout.write(\"\\r Running story number: \" + str(i))\n",
    "        \n",
    "        #Getting vocab from stories\n",
    "        for text in story[0]:\n",
    "            [vocab.add(word) for word in text ]\n",
    "        sys.stdout.flush()\n",
    "        time.sleep(0.001)\n",
    "        #getting vocab from questions\n",
    "        [vocab.add(word) for word in story[1] ]\n",
    "        \n",
    "        #Getting vocab from Answer\n",
    "        vocab.add(story[2])\n",
    "    return vocab"
   ]
  },
  {
   "cell_type": "code",
   "execution_count": 15,
   "metadata": {},
   "outputs": [
    {
     "name": "stdout",
     "output_type": "stream",
     "text": [
      " Running story number: 10999"
     ]
    }
   ],
   "source": [
    "vocab = sorted(create_vocab(stories))\n",
    "vocab.insert(0, '<PAD>')\n",
    "vocab_size = len(vocab)"
   ]
  },
  {
   "cell_type": "code",
   "execution_count": 16,
   "metadata": {},
   "outputs": [
    {
     "data": {
      "text/plain": [
       "(10, 32, 8, 4, 10000, 1000)"
      ]
     },
     "execution_count": 16,
     "metadata": {},
     "output_type": "execute_result"
    }
   ],
   "source": [
    "story_maxsents, vocab_size, story_maxlen, query_maxlen, len(train_stories), len(test_stories)"
   ]
  },
  {
   "cell_type": "code",
   "execution_count": 17,
   "metadata": {},
   "outputs": [],
   "source": [
    "word_idx = dict((c, i) for i, c in enumerate(vocab))"
   ]
  },
  {
   "cell_type": "code",
   "execution_count": 18,
   "metadata": {},
   "outputs": [],
   "source": [
    "def vectorize_stories(data, word_idx, story_maxlen, query_maxlen):\n",
    "    X = []; Xq = []; Y = []\n",
    "    for story, query, answer in data:\n",
    "        x = [[word_idx[w] for w in s] for s in story]\n",
    "        xq = [word_idx[w] for w in query]\n",
    "        y = [word_idx[answer]]\n",
    "        X.append(x); Xq.append(xq); Y.append(y)\n",
    "    return ([pad_sequences(x, maxlen=story_maxlen) for x in X],\n",
    "            pad_sequences(Xq, maxlen=query_maxlen), np.array(Y))"
   ]
  },
  {
   "cell_type": "code",
   "execution_count": 19,
   "metadata": {},
   "outputs": [],
   "source": [
    "inputs_train, queries_train, answers_train = vectorize_stories(train_stories, \n",
    "     word_idx, story_maxlen, query_maxlen)\n",
    "inputs_test, queries_test, answers_test = vectorize_stories(test_stories, \n",
    "     word_idx, story_maxlen, query_maxlen)"
   ]
  },
  {
   "cell_type": "code",
   "execution_count": 20,
   "metadata": {},
   "outputs": [],
   "source": [
    "def stack_inputs(inputs):\n",
    "    for i,it in enumerate(inputs):\n",
    "        inputs[i] = np.concatenate([it, \n",
    "                           np.zeros((story_maxsents-it.shape[0],story_maxlen), 'int')])\n",
    "    return np.stack(inputs)\n",
    "inputs_train = stack_inputs(inputs_train)\n",
    "inputs_test = stack_inputs(inputs_test)"
   ]
  },
  {
   "cell_type": "code",
   "execution_count": 21,
   "metadata": {},
   "outputs": [
    {
     "data": {
      "text/plain": [
       "((10000, 10, 8), (1000, 10, 8))"
      ]
     },
     "execution_count": 21,
     "metadata": {},
     "output_type": "execute_result"
    }
   ],
   "source": [
    "inputs_train.shape, inputs_test.shape"
   ]
  },
  {
   "cell_type": "code",
   "execution_count": 22,
   "metadata": {},
   "outputs": [],
   "source": [
    "inps = [inputs_train, queries_train]\n",
    "val_inps = [inputs_test, queries_test]"
   ]
  },
  {
   "cell_type": "code",
   "execution_count": 23,
   "metadata": {},
   "outputs": [],
   "source": [
    "emb_dim = 20\n",
    "parms = {'verbose': 2}"
   ]
  },
  {
   "cell_type": "code",
   "execution_count": 24,
   "metadata": {},
   "outputs": [],
   "source": [
    "def emb_sent_bow(inp):\n",
    "    emb = TimeDistributed(Embedding(vocab_size, emb_dim))(inp)\n",
    "    return Lambda(lambda x: K.sum(x, 2))(emb)"
   ]
  },
  {
   "cell_type": "code",
   "execution_count": 25,
   "metadata": {},
   "outputs": [
    {
     "data": {
      "text/plain": [
       "(TensorShape([Dimension(None), Dimension(10), Dimension(8)]),\n",
       " TensorShape([Dimension(None), Dimension(10), Dimension(20)]))"
      ]
     },
     "execution_count": 25,
     "metadata": {},
     "output_type": "execute_result"
    }
   ],
   "source": [
    "inp_story = Input((story_maxsents, story_maxlen))\n",
    "emb_story = emb_sent_bow(inp_story)\n",
    "inp_story.get_shape(), emb_story.get_shape()"
   ]
  },
  {
   "cell_type": "code",
   "execution_count": 26,
   "metadata": {},
   "outputs": [],
   "source": [
    "inp_q = Input((query_maxlen,))"
   ]
  },
  {
   "cell_type": "code",
   "execution_count": 27,
   "metadata": {},
   "outputs": [
    {
     "data": {
      "text/plain": [
       "(TensorShape([Dimension(None), Dimension(4)]),\n",
       " TensorShape([Dimension(None), Dimension(1), Dimension(20)]))"
      ]
     },
     "execution_count": 27,
     "metadata": {},
     "output_type": "execute_result"
    }
   ],
   "source": [
    "emb_q = Embedding(vocab_size, emb_dim)(inp_q)\n",
    "emb_q = Lambda(lambda x: K.sum(x, 1))(emb_q)\n",
    "emb_q = Reshape((1, emb_dim))(emb_q)\n",
    "inp_q.get_shape(), emb_q.get_shape()"
   ]
  },
  {
   "cell_type": "code",
   "execution_count": 28,
   "metadata": {},
   "outputs": [
    {
     "name": "stderr",
     "output_type": "stream",
     "text": [
      "/Users/yonarp/anaconda3/lib/python3.6/site-packages/ipykernel_launcher.py:1: UserWarning: The `merge` function is deprecated and will be removed after 08/2017. Use instead layers from `keras.layers.merge`, e.g. `add`, `concatenate`, etc.\n",
      "  \"\"\"Entry point for launching an IPython kernel.\n",
      "/Users/yonarp/anaconda3/lib/python3.6/site-packages/keras/legacy/layers.py:458: UserWarning: The `Merge` layer is deprecated and will be removed after 08/2017. Use instead layers from `keras.layers.merge`, e.g. `add`, `concatenate`, etc.\n",
      "  name=name)\n"
     ]
    },
    {
     "data": {
      "text/plain": [
       "TensorShape([Dimension(None), Dimension(10), Dimension(1)])"
      ]
     },
     "execution_count": 28,
     "metadata": {},
     "output_type": "execute_result"
    }
   ],
   "source": [
    "x = merge([emb_story, emb_q], mode='dot', dot_axes=2)\n",
    "x = Reshape((story_maxsents,))(x)\n",
    "x = Activation('softmax')(x)\n",
    "match = Reshape((story_maxsents,1))(x)\n",
    "match.shape"
   ]
  },
  {
   "cell_type": "code",
   "execution_count": 29,
   "metadata": {},
   "outputs": [
    {
     "name": "stderr",
     "output_type": "stream",
     "text": [
      "/Users/yonarp/anaconda3/lib/python3.6/site-packages/ipykernel_launcher.py:2: UserWarning: The `merge` function is deprecated and will be removed after 08/2017. Use instead layers from `keras.layers.merge`, e.g. `add`, `concatenate`, etc.\n",
      "  \n",
      "/Users/yonarp/anaconda3/lib/python3.6/site-packages/keras/legacy/layers.py:458: UserWarning: The `Merge` layer is deprecated and will be removed after 08/2017. Use instead layers from `keras.layers.merge`, e.g. `add`, `concatenate`, etc.\n",
      "  name=name)\n"
     ]
    }
   ],
   "source": [
    "emb_c = emb_sent_bow(inp_story)\n",
    "x = merge([match,emb_c], mode='dot', dot_axes=1)\n",
    "response = Reshape((emb_dim,),)(x)\n",
    "res = Dense(vocab_size, activation= 'softmax')(response)"
   ]
  },
  {
   "cell_type": "code",
   "execution_count": 30,
   "metadata": {},
   "outputs": [],
   "source": [
    "answer = Model([inp_story, inp_q], res)\n",
    "answer.compile(optimizer='rmsprop', loss='sparse_categorical_crossentropy', \n",
    "              metrics=['accuracy'])"
   ]
  },
  {
   "cell_type": "code",
   "execution_count": 31,
   "metadata": {},
   "outputs": [
    {
     "name": "stderr",
     "output_type": "stream",
     "text": [
      "/Users/yonarp/anaconda3/lib/python3.6/site-packages/ipykernel_launcher.py:3: UserWarning: The `nb_epoch` argument in `fit` has been renamed `epochs`.\n",
      "  This is separate from the ipykernel package so we can avoid doing imports until\n"
     ]
    },
    {
     "name": "stdout",
     "output_type": "stream",
     "text": [
      "Train on 10000 samples, validate on 1000 samples\n",
      "Epoch 1/4\n",
      "0s - loss: 0.3443 - acc: 0.8945 - val_loss: 0.0023 - val_acc: 0.9990\n",
      "Epoch 2/4\n",
      "0s - loss: 0.0046 - acc: 0.9988 - val_loss: 3.1547e-06 - val_acc: 1.0000\n",
      "Epoch 3/4\n",
      "0s - loss: 0.0073 - acc: 0.9987 - val_loss: 0.0084 - val_acc: 0.9970\n",
      "Epoch 4/4\n",
      "0s - loss: 0.0067 - acc: 0.9994 - val_loss: 0.0025 - val_acc: 0.9990\n"
     ]
    }
   ],
   "source": [
    "K.set_value(answer.optimizer.lr, 1e-2)\n",
    "hist = answer.fit(inps, answers_train, **parms, nb_epoch=4, batch_size=32,\n",
    "                 validation_data=(val_inps, answers_test))"
   ]
  },
  {
   "cell_type": "code",
   "execution_count": 35,
   "metadata": {},
   "outputs": [
    {
     "data": {
      "image/png": "[encoded data removed]",
      "text/plain": [
       "<matplotlib.figure.Figure at 0x1c1c7e9a58>"
      ]
     },
     "metadata": {},
     "output_type": "display_data"
    },
    {
     "data": {
      "image/png": "[encoded data removed]",
      "text/plain": [
       "<matplotlib.figure.Figure at 0x1c1c809b00>"
      ]
     },
     "metadata": {},
     "output_type": "display_data"
    }
   ],
   "source": [
    "# Visualize training history\n",
    "from keras.models import Sequential\n",
    "from keras.layers import Dense\n",
    "import matplotlib.pyplot as plt\n",
    "import numpy\n",
    "# print(history.history.keys())\n",
    "# summarize history for accuracy\n",
    "plt.plot(hist.history['acc'])\n",
    "plt.plot(hist.history['val_acc'])\n",
    "plt.title('Plot of model accuracy for One Hop Case')\n",
    "plt.ylabel('accuracy')\n",
    "plt.xlabel('epoch')\n",
    "plt.legend(['train', 'test'], loc='upper left')\n",
    "plt.show()\n",
    "# summarize history for loss\n",
    "plt.plot(hist.history['loss'])\n",
    "plt.plot(hist.history['val_loss'])\n",
    "plt.title('Plot of model loss for One Hop Case')\n",
    "plt.ylabel('loss')\n",
    "plt.xlabel('epoch')\n",
    "plt.legend(['train', 'test'], loc='upper left')\n",
    "plt.show()"
   ]
  },
  {
   "cell_type": "markdown",
   "metadata": {},
   "source": [
    "## Testing our Model"
   ]
  },
  {
   "cell_type": "code",
   "execution_count": 36,
   "metadata": {},
   "outputs": [],
   "source": [
    "q_num = 117\n",
    "f = Model([inp_story, inp_q],match)"
   ]
  },
  {
   "cell_type": "code",
   "execution_count": 37,
   "metadata": {},
   "outputs": [
    {
     "data": {
      "text/plain": [
       "([['0:', 'Mary', 'went', 'back', 'to', 'the', 'hallway', '.'],\n",
       "  ['1:', 'Daniel', 'went', 'back', 'to', 'the', 'bedroom', '.'],\n",
       "  ['3:', 'Sandra', 'moved', 'to', 'the', 'bathroom', '.'],\n",
       "  ['4:', 'Sandra', 'journeyed', 'to', 'the', 'hallway', '.'],\n",
       "  ['6:', 'Mary', 'went', 'back', 'to', 'the', 'bedroom', '.'],\n",
       "  ['7:', 'Mary', 'went', 'back', 'to', 'the', 'garden', '.']],\n",
       " ['Where', 'is', 'Mary', '?'],\n",
       " 'garden')"
      ]
     },
     "execution_count": 37,
     "metadata": {},
     "output_type": "execute_result"
    }
   ],
   "source": [
    "train_stories[q_num]"
   ]
  },
  {
   "cell_type": "markdown",
   "metadata": {},
   "source": [
    "Trying to Predict which sentence has the highest weight on a pretrained model for better understanding"
   ]
  },
  {
   "cell_type": "code",
   "execution_count": 38,
   "metadata": {},
   "outputs": [
    {
     "data": {
      "text/plain": [
       "array([  1.5824e-08,   1.0281e-14,   3.0425e-12,   7.5030e-10,\n",
       "         1.9646e-01,   8.0354e-01,   3.0973e-16], dtype=float32)"
      ]
     },
     "execution_count": 38,
     "metadata": {},
     "output_type": "execute_result"
    }
   ],
   "source": [
    "np.squeeze(f.predict([inputs_train[q_num:q_num+1],queries_train[q_num:q_num+1\n",
    "                                             ]]))[:(len(train_stories[q_num][0]) + 1)]"
   ]
  },
  {
   "cell_type": "markdown",
   "metadata": {},
   "source": [
    "Now applying it to our model"
   ]
  },
  {
   "cell_type": "code",
   "execution_count": 39,
   "metadata": {},
   "outputs": [
    {
     "data": {
      "text/plain": [
       "array([21, 27, 27, 22, 25, 20, 20, 20, 25, 19])"
      ]
     },
     "execution_count": 39,
     "metadata": {},
     "output_type": "execute_result"
    }
   ],
   "source": [
    "answers_train[q_num:q_num+10,0]"
   ]
  },
  {
   "cell_type": "code",
   "execution_count": 40,
   "metadata": {},
   "outputs": [
    {
     "data": {
      "text/plain": [
       "array([21, 27, 27, 22, 25, 20, 20, 20, 25, 19])"
      ]
     },
     "execution_count": 40,
     "metadata": {},
     "output_type": "execute_result"
    }
   ],
   "source": [
    "np.argmax(answer.predict([inputs_train[q_num:q_num+10], queries_train[q_num:q_num+10]]),1)"
   ]
  },
  {
   "cell_type": "markdown",
   "metadata": {},
   "source": [
    "# Two Supporting Facts"
   ]
  },
  {
   "cell_type": "code",
   "execution_count": 41,
   "metadata": {},
   "outputs": [
    {
     "name": "stderr",
     "output_type": "stream",
     "text": [
      "/Users/yonarp/anaconda3/lib/python3.6/re.py:212: FutureWarning: split() requires a non-empty pattern match.\n",
      "  return _compile(pattern, flags).split(string, maxsplit)\n"
     ]
    },
    {
     "name": "stdout",
     "output_type": "stream",
     "text": [
      " Running story number: 10999"
     ]
    },
    {
     "data": {
      "text/plain": [
       "(88, 124, 8, 5, 10000, 1000)"
      ]
     },
     "execution_count": 41,
     "metadata": {},
     "output_type": "execute_result"
    }
   ],
   "source": [
    "challenge_type = 'two_supporting_facts_10k'\n",
    "challenge = challenges[challenge_type]\n",
    "train_stories = get_stories(tar.extractfile(challenge.format('train')))\n",
    "test_stories = get_stories(tar.extractfile(challenge.format('test')))\n",
    "stories = train_stories + test_stories\n",
    "story_maxlen = max((len(s) for x, _, _ in stories for s in x))\n",
    "story_maxsents = max((len(x) for x, _, _ in stories))\n",
    "query_maxlen = max(len(x) for _, x, _ in stories)\n",
    "# vocab = sorted(set(flatten(stories)))\n",
    "vocab = sorted(create_vocab(stories))\n",
    "vocab.insert(0, '<PAD>')\n",
    "vocab_size = len(vocab)\n",
    "story_maxsents, vocab_size, story_maxlen, query_maxlen, len(train_stories), len(test_stories)"
   ]
  },
  {
   "cell_type": "code",
   "execution_count": 42,
   "metadata": {},
   "outputs": [
    {
     "data": {
      "text/plain": [
       "([['0:', 'Mary', 'went', 'to', 'the', 'hallway', '.'],\n",
       "  ['1:', 'Daniel', 'went', 'back', 'to', 'the', 'bedroom', '.'],\n",
       "  ['2:', 'Sandra', 'went', 'back', 'to', 'the', 'garden', '.'],\n",
       "  ['3:', 'Mary', 'went', 'to', 'the', 'office', '.'],\n",
       "  ['4:', 'Mary', 'journeyed', 'to', 'the', 'kitchen', '.'],\n",
       "  ['5:', 'Sandra', 'moved', 'to', 'the', 'office', '.'],\n",
       "  ['6:', 'Sandra', 'journeyed', 'to', 'the', 'hallway', '.'],\n",
       "  ['7:', 'Daniel', 'journeyed', 'to', 'the', 'garden', '.'],\n",
       "  ['8:', 'Mary', 'journeyed', 'to', 'the', 'bathroom', '.'],\n",
       "  ['9:', 'John', 'went', 'back', 'to', 'the', 'bathroom', '.'],\n",
       "  ['10:', 'Sandra', 'travelled', 'to', 'the', 'garden', '.'],\n",
       "  ['11:', 'John', 'moved', 'to', 'the', 'office', '.'],\n",
       "  ['12:', 'Daniel', 'went', 'back', 'to', 'the', 'kitchen', '.'],\n",
       "  ['13:', 'Mary', 'moved', 'to', 'the', 'kitchen', '.'],\n",
       "  ['14:', 'Mary', 'moved', 'to', 'the', 'hallway', '.'],\n",
       "  ['15:', 'Mary', 'went', 'to', 'the', 'kitchen', '.'],\n",
       "  ['16:', 'Sandra', 'went', 'back', 'to', 'the', 'bedroom', '.'],\n",
       "  ['17:', 'Sandra', 'travelled', 'to', 'the', 'hallway', '.'],\n",
       "  ['18:', 'Sandra', 'travelled', 'to', 'the', 'kitchen', '.'],\n",
       "  ['19:', 'Sandra', 'moved', 'to', 'the', 'garden', '.'],\n",
       "  ['20:', 'Daniel', 'went', 'to', 'the', 'garden', '.'],\n",
       "  ['21:', 'Sandra', 'went', 'back', 'to', 'the', 'bathroom', '.'],\n",
       "  ['22:', 'John', 'moved', 'to', 'the', 'garden', '.'],\n",
       "  ['23:', 'Mary', 'went', 'to', 'the', 'bathroom', '.'],\n",
       "  ['24:', 'Daniel', 'travelled', 'to', 'the', 'kitchen', '.'],\n",
       "  ['25:', 'John', 'went', 'back', 'to', 'the', 'hallway', '.'],\n",
       "  ['26:', 'Sandra', 'went', 'back', 'to', 'the', 'hallway', '.'],\n",
       "  ['27:', 'Mary', 'went', 'to', 'the', 'hallway', '.'],\n",
       "  ['28:', 'Daniel', 'went', 'back', 'to', 'the', 'garden', '.'],\n",
       "  ['29:', 'Sandra', 'went', 'back', 'to', 'the', 'office', '.'],\n",
       "  ['30:', 'Sandra', 'moved', 'to', 'the', 'kitchen', '.'],\n",
       "  ['31:', 'Mary', 'travelled', 'to', 'the', 'garden', '.'],\n",
       "  ['32:', 'Sandra', 'went', 'to', 'the', 'garden', '.'],\n",
       "  ['33:', 'Daniel', 'journeyed', 'to', 'the', 'hallway', '.'],\n",
       "  ['34:', 'Mary', 'went', 'back', 'to', 'the', 'hallway', '.'],\n",
       "  ['35:', 'Daniel', 'travelled', 'to', 'the', 'garden', '.'],\n",
       "  ['36:', 'John', 'journeyed', 'to', 'the', 'bathroom', '.'],\n",
       "  ['37:', 'Daniel', 'travelled', 'to', 'the', 'hallway', '.'],\n",
       "  ['38:', 'Daniel', 'travelled', 'to', 'the', 'bedroom', '.'],\n",
       "  ['39:', 'Mary', 'went', 'back', 'to', 'the', 'kitchen', '.'],\n",
       "  ['40:', 'Daniel', 'went', 'to', 'the', 'office', '.'],\n",
       "  ['41:', 'John', 'journeyed', 'to', 'the', 'hallway', '.'],\n",
       "  ['42:', 'John', 'went', 'to', 'the', 'kitchen', '.'],\n",
       "  ['43:', 'Daniel', 'travelled', 'to', 'the', 'hallway', '.'],\n",
       "  ['44:', 'Sandra', 'went', 'back', 'to', 'the', 'kitchen', '.'],\n",
       "  ['45:', 'Mary', 'moved', 'to', 'the', 'office', '.'],\n",
       "  ['46:', 'Sandra', 'went', 'back', 'to', 'the', 'garden', '.'],\n",
       "  ['47:', 'Sandra', 'went', 'back', 'to', 'the', 'kitchen', '.'],\n",
       "  ['48:', 'Sandra', 'moved', 'to', 'the', 'garden', '.'],\n",
       "  ['49:', 'Sandra', 'moved', 'to', 'the', 'office', '.'],\n",
       "  ['50:', 'John', 'went', 'back', 'to', 'the', 'hallway', '.'],\n",
       "  ['51:', 'Daniel', 'went', 'to', 'the', 'garden', '.'],\n",
       "  ['52:', 'Sandra', 'travelled', 'to', 'the', 'kitchen', '.'],\n",
       "  ['53:', 'Sandra', 'moved', 'to', 'the', 'bathroom', '.'],\n",
       "  ['54:', 'John', 'journeyed', 'to', 'the', 'garden', '.'],\n",
       "  ['55:', 'Mary', 'moved', 'to', 'the', 'hallway', '.'],\n",
       "  ['56:', 'John', 'went', 'back', 'to', 'the', 'office', '.'],\n",
       "  ['57:', 'Mary', 'went', 'back', 'to', 'the', 'office', '.'],\n",
       "  ['58:', 'Daniel', 'travelled', 'to', 'the', 'bathroom', '.'],\n",
       "  ['59:', 'Sandra', 'travelled', 'to', 'the', 'hallway', '.'],\n",
       "  ['60:', 'Sandra', 'journeyed', 'to', 'the', 'bathroom', '.'],\n",
       "  ['61:', 'Sandra', 'travelled', 'to', 'the', 'bedroom', '.'],\n",
       "  ['62:', 'Mary', 'went', 'back', 'to', 'the', 'hallway', '.'],\n",
       "  ['63:', 'Sandra', 'travelled', 'to', 'the', 'kitchen', '.'],\n",
       "  ['64:', 'Daniel', 'travelled', 'to', 'the', 'garden', '.'],\n",
       "  ['65:', 'Daniel', 'journeyed', 'to', 'the', 'bedroom', '.'],\n",
       "  ['66:', 'Mary', 'journeyed', 'to', 'the', 'office', '.'],\n",
       "  ['67:', 'Sandra', 'went', 'back', 'to', 'the', 'office', '.'],\n",
       "  ['68:', 'John', 'travelled', 'to', 'the', 'hallway', '.'],\n",
       "  ['69:', 'Daniel', 'picked', 'up', 'the', 'milk', 'there', '.'],\n",
       "  ['70:', 'Daniel', 'picked', 'up', 'the', 'apple', 'there', '.'],\n",
       "  ['71:', 'Sandra', 'moved', 'to', 'the', 'hallway', '.'],\n",
       "  ['72:', 'John', 'journeyed', 'to', 'the', 'bedroom', '.'],\n",
       "  ['73:', 'John', 'went', 'back', 'to', 'the', 'garden', '.'],\n",
       "  ['74:', 'Sandra', 'journeyed', 'to', 'the', 'office', '.'],\n",
       "  ['75:', 'Sandra', 'moved', 'to', 'the', 'bedroom', '.'],\n",
       "  ['76:', 'Mary', 'moved', 'to', 'the', 'kitchen', '.'],\n",
       "  ['77:', 'Mary', 'went', 'to', 'the', 'office', '.'],\n",
       "  ['78:', 'Sandra', 'grabbed', 'the', 'football', 'there', '.'],\n",
       "  ['79:', 'Sandra', 'discarded', 'the', 'football', '.'],\n",
       "  ['81:', 'Daniel', 'took', 'the', 'football', 'there', '.'],\n",
       "  ['82:', 'Daniel', 'put', 'down', 'the', 'apple', 'there', '.'],\n",
       "  ['84:', 'Daniel', 'took', 'the', 'apple', 'there', '.'],\n",
       "  ['85:', 'Daniel', 'travelled', 'to', 'the', 'hallway', '.'],\n",
       "  ['87:', 'Sandra', 'journeyed', 'to', 'the', 'bathroom', '.'],\n",
       "  ['88:', 'Daniel', 'left', 'the', 'milk', 'there', '.'],\n",
       "  ['90:', 'Daniel', 'went', 'to', 'the', 'kitchen', '.'],\n",
       "  ['91:', 'Daniel', 'went', 'back', 'to', 'the', 'bathroom', '.']],\n",
       " ['Where', 'is', 'the', 'milk', '?'],\n",
       " 'hallway')"
      ]
     },
     "execution_count": 42,
     "metadata": {},
     "output_type": "execute_result"
    }
   ],
   "source": [
    "test_stories[534]"
   ]
  },
  {
   "cell_type": "code",
   "execution_count": 43,
   "metadata": {},
   "outputs": [],
   "source": [
    "word_idx = dict((c, i) for i, c in enumerate(vocab))"
   ]
  },
  {
   "cell_type": "code",
   "execution_count": 44,
   "metadata": {},
   "outputs": [],
   "source": [
    "inputs_train, queries_train, answers_train = vectorize_stories(train_stories, \n",
    "     word_idx, story_maxlen, query_maxlen)\n",
    "inputs_test, queries_test, answers_test = vectorize_stories(test_stories, \n",
    "     word_idx, story_maxlen, query_maxlen)"
   ]
  },
  {
   "cell_type": "code",
   "execution_count": 45,
   "metadata": {},
   "outputs": [],
   "source": [
    "inputs_train = stack_inputs(inputs_train)\n",
    "inputs_test = stack_inputs(inputs_test)"
   ]
  },
  {
   "cell_type": "code",
   "execution_count": 46,
   "metadata": {},
   "outputs": [
    {
     "data": {
      "text/plain": [
       "((10000, 88, 8), (1000, 88, 8))"
      ]
     },
     "execution_count": 46,
     "metadata": {},
     "output_type": "execute_result"
    }
   ],
   "source": [
    "inputs_train.shape, inputs_test.shape"
   ]
  },
  {
   "cell_type": "code",
   "execution_count": 47,
   "metadata": {},
   "outputs": [],
   "source": [
    "inps = [inputs_train, queries_train]\n",
    "val_inps = [inputs_test, queries_test]"
   ]
  },
  {
   "cell_type": "code",
   "execution_count": 48,
   "metadata": {},
   "outputs": [],
   "source": [
    "parms = {'verbose': 2}\n",
    "emb_dim = 30"
   ]
  },
  {
   "cell_type": "code",
   "execution_count": 49,
   "metadata": {},
   "outputs": [],
   "source": [
    "def emb_sent_bow(inp):\n",
    "    emb_op = TimeDistributed(Embedding(vocab_size, emb_dim))\n",
    "    emb = emb_op(inp)\n",
    "    emb = Lambda(lambda x: K.sum(x, 2))(emb)\n",
    "#     return Elemwise(0, False)(emb), emb_op\n",
    "    return emb, emb_op"
   ]
  },
  {
   "cell_type": "code",
   "execution_count": 50,
   "metadata": {},
   "outputs": [],
   "source": [
    "inp_story = Input((story_maxsents, story_maxlen))\n",
    "inp_q = Input((query_maxlen,))"
   ]
  },
  {
   "cell_type": "code",
   "execution_count": 51,
   "metadata": {},
   "outputs": [],
   "source": [
    "emb_story, emb_story_op = emb_sent_bow(inp_story)"
   ]
  },
  {
   "cell_type": "code",
   "execution_count": 52,
   "metadata": {},
   "outputs": [],
   "source": [
    "emb_q = emb_story_op.layer(inp_q)\n",
    "emb_q = Lambda(lambda x: K.sum(x, 1))(emb_q)"
   ]
  },
  {
   "cell_type": "code",
   "execution_count": 53,
   "metadata": {},
   "outputs": [],
   "source": [
    "h = Dense(emb_dim)"
   ]
  },
  {
   "cell_type": "code",
   "execution_count": 54,
   "metadata": {},
   "outputs": [],
   "source": [
    "def one_hop(u, A):\n",
    "    C, _ = emb_sent_bow(inp_story)\n",
    "    x = Reshape((1, emb_dim))(u)\n",
    "    x = merge([A, x], mode='dot', dot_axes=2)\n",
    "    x = Reshape((story_maxsents,))(x)\n",
    "    x = Activation('softmax')(x)\n",
    "    match = Reshape((story_maxsents,1))(x)\n",
    "\n",
    "    x = merge([match, C], mode='dot', dot_axes=1)\n",
    "    x = Reshape((emb_dim,))(x)\n",
    "    x = h(x)\n",
    "    x = merge([x, emb_q], 'sum')\n",
    "    return x, C"
   ]
  },
  {
   "cell_type": "code",
   "execution_count": 55,
   "metadata": {},
   "outputs": [
    {
     "name": "stderr",
     "output_type": "stream",
     "text": [
      "/Users/yonarp/anaconda3/lib/python3.6/site-packages/ipykernel_launcher.py:4: UserWarning: The `merge` function is deprecated and will be removed after 08/2017. Use instead layers from `keras.layers.merge`, e.g. `add`, `concatenate`, etc.\n",
      "  after removing the cwd from sys.path.\n",
      "/Users/yonarp/anaconda3/lib/python3.6/site-packages/keras/legacy/layers.py:458: UserWarning: The `Merge` layer is deprecated and will be removed after 08/2017. Use instead layers from `keras.layers.merge`, e.g. `add`, `concatenate`, etc.\n",
      "  name=name)\n",
      "/Users/yonarp/anaconda3/lib/python3.6/site-packages/ipykernel_launcher.py:9: UserWarning: The `merge` function is deprecated and will be removed after 08/2017. Use instead layers from `keras.layers.merge`, e.g. `add`, `concatenate`, etc.\n",
      "  if __name__ == '__main__':\n",
      "/Users/yonarp/anaconda3/lib/python3.6/site-packages/ipykernel_launcher.py:12: UserWarning: The `merge` function is deprecated and will be removed after 08/2017. Use instead layers from `keras.layers.merge`, e.g. `add`, `concatenate`, etc.\n",
      "  if sys.path[0] == '':\n"
     ]
    }
   ],
   "source": [
    "response, emb_story = one_hop(emb_q, emb_story)\n",
    "response, emb_story = one_hop(response, emb_story)"
   ]
  },
  {
   "cell_type": "code",
   "execution_count": 56,
   "metadata": {},
   "outputs": [],
   "source": [
    "res = Dense(vocab_size, activation='softmax')(response)"
   ]
  },
  {
   "cell_type": "code",
   "execution_count": 57,
   "metadata": {},
   "outputs": [],
   "source": [
    "answer = Model([inp_story, inp_q], res)\n",
    "answer.compile(optimizer='rmsprop', loss='sparse_categorical_crossentropy',\n",
    "               metrics=['accuracy'])"
   ]
  },
  {
   "cell_type": "code",
   "execution_count": 58,
   "metadata": {},
   "outputs": [
    {
     "name": "stderr",
     "output_type": "stream",
     "text": [
      "/Users/yonarp/anaconda3/lib/python3.6/site-packages/ipykernel_launcher.py:3: UserWarning: The `nb_epoch` argument in `fit` has been renamed `epochs`.\n",
      "  This is separate from the ipykernel package so we can avoid doing imports until\n"
     ]
    },
    {
     "name": "stdout",
     "output_type": "stream",
     "text": [
      "Train on 10000 samples, validate on 1000 samples\n",
      "Epoch 1/8\n",
      "6s - loss: 1.8319 - acc: 0.2281 - val_loss: 1.5191 - val_acc: 0.4130\n",
      "Epoch 2/8\n",
      "5s - loss: 0.8945 - acc: 0.6751 - val_loss: 0.7426 - val_acc: 0.7350\n",
      "Epoch 3/8\n",
      "6s - loss: 0.6686 - acc: 0.7556 - val_loss: 0.7736 - val_acc: 0.7040\n",
      "Epoch 4/8\n",
      "7s - loss: 0.5826 - acc: 0.7922 - val_loss: 0.7372 - val_acc: 0.7830\n",
      "Epoch 5/8\n",
      "6s - loss: 0.5222 - acc: 0.8131 - val_loss: 0.5666 - val_acc: 0.7900\n",
      "Epoch 6/8\n",
      "6s - loss: 0.4772 - acc: 0.8389 - val_loss: 0.6351 - val_acc: 0.7870\n",
      "Epoch 7/8\n",
      "5s - loss: 0.4463 - acc: 0.8553 - val_loss: 0.5651 - val_acc: 0.8170\n",
      "Epoch 8/8\n",
      "6s - loss: 0.4167 - acc: 0.8682 - val_loss: 0.5908 - val_acc: 0.8090\n"
     ]
    }
   ],
   "source": [
    "K.set_value(answer.optimizer.lr, 5e-3)\n",
    "hist=answer.fit(inps, answers_train, **parms, nb_epoch=8, batch_size=64,\n",
    "           validation_data=(val_inps, answers_test))"
   ]
  },
  {
   "cell_type": "code",
   "execution_count": 59,
   "metadata": {},
   "outputs": [
    {
     "data": {
      "text/plain": [
       "array([ 0.413,  0.735,  0.704,  0.783,  0.79 ,  0.787,  0.817,  0.809])"
      ]
     },
     "execution_count": 59,
     "metadata": {},
     "output_type": "execute_result"
    }
   ],
   "source": [
    "np.array(hist.history['val_acc'])"
   ]
  },
  {
   "cell_type": "code",
   "execution_count": 61,
   "metadata": {},
   "outputs": [
    {
     "data": {
      "image/png": "[encoded data removed]",
      "text/plain": [
       "<matplotlib.figure.Figure at 0x1c1aacbf98>"
      ]
     },
     "metadata": {},
     "output_type": "display_data"
    },
    {
     "data": {
      "image/png": "[encoded data removed]",
      "text/plain": [
       "<matplotlib.figure.Figure at 0x1c1c7946a0>"
      ]
     },
     "metadata": {},
     "output_type": "display_data"
    }
   ],
   "source": [
    "plt.plot(hist.history['acc'])\n",
    "plt.plot(hist.history['val_acc'])\n",
    "plt.title('Plot of model accuracy for Two Hop Case')\n",
    "plt.ylabel('accuracy')\n",
    "plt.xlabel('epoch')\n",
    "plt.legend(['train', 'test'], loc='upper left')\n",
    "plt.show()\n",
    "# summarize history for loss\n",
    "plt.plot(hist.history['loss'])\n",
    "plt.plot(hist.history['val_loss'])\n",
    "plt.title('Plot of model loss for Two Hop Case')\n",
    "plt.ylabel('loss')\n",
    "plt.xlabel('epoch')\n",
    "plt.legend(['train', 'test'], loc='upper left')\n",
    "plt.show()"
   ]
  }
 ],
 "metadata": {
  "anaconda-cloud": {},
  "kernelspec": {
   "display_name": "Python 3",
   "language": "python",
   "name": "python3"
  },
  "language_info": {
   "codemirror_mode": {
    "name": "ipython",
    "version": 3
   },
   "file_extension": ".py",
   "mimetype": "text/x-python",
   "name": "python",
   "nbconvert_exporter": "python",
   "pygments_lexer": "ipython3",
   "version": "3.6.3"
  }
 },
 "nbformat": 4,
 "nbformat_minor": 2
}
